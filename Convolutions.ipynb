{
 "cells": [
  {
   "cell_type": "code",
   "execution_count": 4,
   "id": "4940b89c",
   "metadata": {},
   "outputs": [],
   "source": [
    "# *******Libraries*******\n",
    "import numpy as np\n",
    "import matplotlib.pyplot as plt"
   ]
  },
  {
   "cell_type": "markdown",
   "id": "9fb1a336",
   "metadata": {},
   "source": [
    "linear convolution"
   ]
  },
  {
   "cell_type": "code",
   "execution_count": 16,
   "id": "a869ac9a",
   "metadata": {},
   "outputs": [
    {
     "name": "stdout",
     "output_type": "stream",
     "text": [
      "full convolution result:\n",
      "[0 0 0 1 2 3 2 0 0 0 0 0 0 0 0 0]\n",
      "same convoluted result\n"
     ]
    },
    {
     "data": {
      "text/plain": [
       "array([0, 1, 2, 3, 2, 0, 0, 0])"
      ]
     },
     "execution_count": 16,
     "metadata": {},
     "output_type": "execute_result"
    }
   ],
   "source": [
    "x=np.array([0,0,0,1,0,0,0,0]) \n",
    "m=len(x)\n",
    "h=np.array([1,2,3,2,0]) \n",
    "n=len(h)\n",
    "\n",
    "h=h.reshape(1,n)\n",
    "h=np.fliplr(h)\n",
    "#print(h)\n",
    "\n",
    "y=np.zeros((m+2*(n-1)) ,dtype=int)\n",
    "X=np.zeros((m+2*(n-1)) ,dtype=int)\n",
    "X[n-1:n-1+m] = x\n",
    "\n",
    "for i in range(len(X)-n):\n",
    "    y[i]= np.dot(h,X[i:i+n])\n",
    "    \n",
    "print(\"full convolution result:\")\n",
    "print(y)\n",
    "\n",
    "print('same convoluted result')\n",
    "same=y[(n-1)//2:(n-1)//2+m]\n",
    "same"
   ]
  },
  {
   "cell_type": "code",
   "execution_count": 5,
   "id": "a07fb05f",
   "metadata": {},
   "outputs": [],
   "source": [
    "# defining the filter/kernel  and the input\n",
    "w=np.array([[1,2,3],\n",
    "            [4,5,6],\n",
    "            [7,8,9]])\n",
    "f=np.array([[0,0,0,0,0],\n",
    "            [0,0,0,0,0],\n",
    "            [0,0,1,0,0],\n",
    "            [0,0,0,0,0],\n",
    "            [0,0,0,0,0]])"
   ]
  },
  {
   "cell_type": "code",
   "execution_count": 6,
   "id": "40def110",
   "metadata": {},
   "outputs": [],
   "source": [
    "# Image rotation by 180 degrees\n",
    "\n",
    "def rot(img):\n",
    "    img=img.T\n",
    "    m,n=img.shape\n",
    "    for i in range(m):\n",
    "        for j in range(n//2):\n",
    "            temp=img[i][j]\n",
    "            img[i][j]=img[i][n-1-j]\n",
    "            img[i][n-1-j]=temp\n",
    "    return img"
   ]
  },
  {
   "cell_type": "markdown",
   "id": "81c9ba90",
   "metadata": {},
   "source": [
    "Function for 2-D 'full' and 'same' convolution"
   ]
  },
  {
   "cell_type": "code",
   "execution_count": 7,
   "id": "58786310",
   "metadata": {},
   "outputs": [],
   "source": [
    "def  convn(f,w,conv_type):\n",
    "    r,c=w.shape\n",
    "    R,C=f.shape\n",
    "\n",
    "    #flipping filter f by 180 for convolution\n",
    "    w=np.flipud(w)\n",
    "    w=np.fliplr(w)\n",
    "    #w=rot(w)\n",
    "\n",
    "    #creating empty output array \n",
    "    \n",
    "    F=np.zeros((R+2*(r-1),C+2*(c-1)),dtype=int)\n",
    "    out=np.zeros((R+2*(r-1),C+2*(c-1)),dtype=int)\n",
    "    F[r-1:R+r-1,c-1:C+c-1]=f  #zero padding f  \n",
    "\n",
    "    \n",
    "    print(\"shape of final matrix: \"+ str(out.shape))\n",
    "\n",
    "    for i in range(out.shape[0]-r):\n",
    "        for j in range(out.shape[1]-c):\n",
    "            out[i+(r-1)//2][j+(c-1)//2]= np.sum(w * F[i:i+r,j:j+c])\n",
    "    if conv_type ==\"full\" :       \n",
    "        print('full 2-D convolution')\n",
    "        return out    # full parameter \n",
    "        \n",
    "    elif conv_type ==\"same\" :\n",
    "        print('same 2-D convolution')\n",
    "        same=out[r-1:R+r-1,c-1:C+c-1]\n",
    "        return same\n",
    "    "
   ]
  },
  {
   "cell_type": "markdown",
   "id": "9cc5b318",
   "metadata": {},
   "source": [
    "Function for Valid convolution"
   ]
  },
  {
   "cell_type": "code",
   "execution_count": 14,
   "id": "0e162591",
   "metadata": {},
   "outputs": [],
   "source": [
    "def valid_conv(x,h):\n",
    "    M,N=x.shape\n",
    "    m,n=h.shape\n",
    "    \n",
    "    h=np.flipud(h)\n",
    "    h=np.fliplr(h)\n",
    "\n",
    "    \n",
    "    out=np.zeros((M-m+1,N-n+1))\n",
    "    print(\"shape of final matrix\" ,out.shape)\n",
    "    for i in range(out.shape[0]):\n",
    "        for j in range(out.shape[1]):\n",
    "#             out[i+((m-1)//2)][j+((n-1)//2)] = x[i:i+m,j:j+n,:]*h\n",
    "              out[i][j] = np.sum(h*x[i:i+m,j:j+n])\n",
    "    out=out.astype(\"uint8\")\n",
    "    print(\"valid convolution: \")\n",
    "    print(out)"
   ]
  },
  {
   "cell_type": "markdown",
   "id": "30ebc677",
   "metadata": {},
   "source": [
    "Running the functions to find results"
   ]
  },
  {
   "cell_type": "code",
   "execution_count": 9,
   "id": "03d1f63f",
   "metadata": {},
   "outputs": [
    {
     "name": "stdout",
     "output_type": "stream",
     "text": [
      "shape of final matrix: (9, 9)\n",
      "full 2-D convolution\n",
      "[[0 0 0 0 0 0 0 0 0]\n",
      " [0 0 0 0 0 0 0 0 0]\n",
      " [0 0 0 0 0 0 0 0 0]\n",
      " [0 0 0 1 2 3 0 0 0]\n",
      " [0 0 0 4 5 6 0 0 0]\n",
      " [0 0 0 7 8 9 0 0 0]\n",
      " [0 0 0 0 0 0 0 0 0]\n",
      " [0 0 0 0 0 0 0 0 0]\n",
      " [0 0 0 0 0 0 0 0 0]]\n"
     ]
    }
   ],
   "source": [
    "out=convn(f,w,\"full\")\n",
    "print(out)"
   ]
  },
  {
   "cell_type": "code",
   "execution_count": 10,
   "id": "c4b3aa9f",
   "metadata": {},
   "outputs": [
    {
     "name": "stdout",
     "output_type": "stream",
     "text": [
      "shape of final matrix: (9, 9)\n",
      "same 2-D convolution\n",
      "[[0 0 0 0 0]\n",
      " [0 1 2 3 0]\n",
      " [0 4 5 6 0]\n",
      " [0 7 8 9 0]\n",
      " [0 0 0 0 0]]\n"
     ]
    }
   ],
   "source": [
    "out=convn(f,w,\"same\")\n",
    "print(out)"
   ]
  },
  {
   "cell_type": "code",
   "execution_count": 15,
   "id": "682f85e5",
   "metadata": {},
   "outputs": [
    {
     "name": "stdout",
     "output_type": "stream",
     "text": [
      "shape of final matrix (3, 3)\n",
      "valid convolution: \n",
      "[[1 2 3]\n",
      " [4 5 6]\n",
      " [7 8 9]]\n"
     ]
    }
   ],
   "source": [
    "valid_conv(f,w)"
   ]
  },
  {
   "cell_type": "code",
   "execution_count": null,
   "id": "ea322882",
   "metadata": {},
   "outputs": [],
   "source": []
  }
 ],
 "metadata": {
  "kernelspec": {
   "display_name": "Python 3",
   "language": "python",
   "name": "python3"
  },
  "language_info": {
   "codemirror_mode": {
    "name": "ipython",
    "version": 3
   },
   "file_extension": ".py",
   "mimetype": "text/x-python",
   "name": "python",
   "nbconvert_exporter": "python",
   "pygments_lexer": "ipython3",
   "version": "3.8.8"
  }
 },
 "nbformat": 4,
 "nbformat_minor": 5
}
